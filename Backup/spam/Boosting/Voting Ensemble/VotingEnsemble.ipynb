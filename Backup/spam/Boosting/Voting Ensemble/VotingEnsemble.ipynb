{
  "nbformat": 4,
  "nbformat_minor": 0,
  "metadata": {
    "colab": {
      "provenance": []
    },
    "kernelspec": {
      "name": "python3",
      "display_name": "Python 3"
    },
    "language_info": {
      "name": "python"
    }
  },
  "cells": [
    {
      "cell_type": "code",
      "source": [
        "from sklearn.ensemble import VotingClassifier\n",
        "from sklearn.linear_model import LogisticRegression\n",
        "from sklearn.svm import SVC\n",
        "from sklearn.tree import DecisionTreeClassifier\n",
        "from sklearn.datasets import load_iris\n",
        "from sklearn.model_selection import train_test_split\n",
        "from sklearn.metrics import accuracy_score\n",
        "\n",
        "iris = load_iris()\n",
        "x = iris.data[:, :4]\n",
        "y = iris.target\n",
        "x_train, x_test, y_train, y_test = train_test_split(x, y, test_size=0.20, random_state=42)\n",
        "\n",
        "estimator = []\n",
        "estimator.append(('Logistic Regression', LogisticRegression(solver='lbfgs', multi_class='multinomial', max_iter=200)))\n",
        "estimator.append(('SVC', SVC(gamma='auto', probability=True)))\n",
        "estimator.append(('Decision Tree Classfier', DecisionTreeClassifier()))\n",
        "\n",
        "vote_hard = VotingClassifier(estimators=estimator, voting='hard')\n",
        "vote_hard.fit(x_train, y_train)\n",
        "y_pred = vote_hard.predict(x_test)\n",
        "score = accuracy_score(y_test, y_pred)\n",
        "print(\"Hard Voting Score\", score)\n",
        "\n",
        "vote_soft = VotingClassifier(estimators=estimator, voting='soft')\n",
        "vote_soft.fit(x_train, y_train)\n",
        "y_pred = vote_soft.predict(x_test)\n",
        "score = accuracy_score(y_test, y_pred)\n",
        "print(\"Soft Voting Score\", score)\n"
      ],
      "metadata": {
        "colab": {
          "base_uri": "https://localhost:8080/"
        },
        "id": "UbczeVpV91Ju",
        "outputId": "8444b11b-cd7c-4a39-af3d-95dc0e963ac5"
      },
      "execution_count": 2,
      "outputs": [
        {
          "output_type": "stream",
          "name": "stdout",
          "text": [
            "Hard Voting Score 1.0\n",
            "Soft Voting Score 1.0\n"
          ]
        }
      ]
    }
  ]
}