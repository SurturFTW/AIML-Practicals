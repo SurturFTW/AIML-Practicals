{
  "nbformat": 4,
  "nbformat_minor": 0,
  "metadata": {
    "colab": {
      "provenance": []
    },
    "kernelspec": {
      "name": "python3",
      "display_name": "Python 3"
    },
    "language_info": {
      "name": "python"
    }
  },
  "cells": [
    {
      "cell_type": "markdown",
      "source": [
        "Practical 10: Implementation of Boosting Algorithms: AdaBoost, Stochastic Gradient"
      ],
      "metadata": {
        "id": "G8SmAgKtib2f"
      }
    },
    {
      "cell_type": "code",
      "execution_count": 1,
      "metadata": {
        "colab": {
          "base_uri": "https://localhost:8080/"
        },
        "id": "j5_2E11Jdxct",
        "outputId": "5ae0a65b-6406-4a96-b564-3fc87cafc095"
      },
      "outputs": [
        {
          "output_type": "stream",
          "name": "stdout",
          "text": [
            "    age  anaemia  creatinine_phosphokinase  diabetes  ejection_fraction  \\\n",
            "0  75.0        0                       582         0                 20   \n",
            "1  55.0        0                      7861         0                 38   \n",
            "2  65.0        0                       146         0                 20   \n",
            "3  50.0        1                       111         0                 20   \n",
            "4  65.0        1                       160         1                 20   \n",
            "\n",
            "   high_blood_pressure  platelets  serum_creatinine  serum_sodium  sex  \\\n",
            "0                    1  265000.00               1.9           130    1   \n",
            "1                    0  263358.03               1.1           136    1   \n",
            "2                    0  162000.00               1.3           129    1   \n",
            "3                    0  210000.00               1.9           137    1   \n",
            "4                    0  327000.00               2.7           116    0   \n",
            "\n",
            "   smoking  time  DEATH_EVENT  \n",
            "0        0     4            1  \n",
            "1        0     6            1  \n",
            "2        1     7            1  \n",
            "3        0     7            1  \n",
            "4        0     8            1  \n"
          ]
        }
      ],
      "source": [
        "import pandas as pd\n",
        "\n",
        "# Read the dataset\n",
        "data = pd.read_csv('https://archive.ics.uci.edu/ml/machine-learning-databases/00519/heart_failure_clinical_records_dataset.csv')\n",
        "\n",
        "# Display the first few rows of the dataset\n",
        "print(data.head())\n"
      ]
    },
    {
      "cell_type": "code",
      "source": [
        "import pandas as pd\n",
        "from sklearn.model_selection import train_test_split\n",
        "from sklearn.ensemble import AdaBoostClassifier\n",
        "from sklearn.metrics import accuracy_score\n",
        "\n",
        "\n",
        "# Splitting the dataset into features (X) and target variable (y)\n",
        "X = data.drop('DEATH_EVENT', axis=1)  # Features\n",
        "y = data['DEATH_EVENT']  # Target variable\n",
        "\n",
        "# Splitting the data into training and testing sets\n",
        "X_train, X_test, y_train, y_test = train_test_split(X, y, test_size=0.3, random_state=1)\n",
        "\n",
        "# Creating the AdaBoostClassifier model\n",
        "adaboost = AdaBoostClassifier(n_estimators=10, learning_rate=1)\n",
        "\n",
        "# Training the model\n",
        "model = adaboost.fit(X_train, y_train)\n",
        "\n",
        "# Making predictions\n",
        "y_pred = model.predict(X_test)\n",
        "\n",
        "# Calculating the accuracy of the model\n",
        "print(\"The accuracy of the model on the validation set is:\", accuracy_score(y_test, y_pred))"
      ],
      "metadata": {
        "colab": {
          "base_uri": "https://localhost:8080/"
        },
        "id": "UwkLrjB3ffio",
        "outputId": "2740d7e5-bd21-4c84-b802-97fb6a21a6de"
      },
      "execution_count": 3,
      "outputs": [
        {
          "output_type": "stream",
          "name": "stdout",
          "text": [
            "The accuracy of the model on the validation set is: 0.8222222222222222\n"
          ]
        }
      ]
    },
    {
      "cell_type": "code",
      "source": [
        "import pandas as sahil_pd\n",
        "from sklearn.model_selection import KFold\n",
        "from sklearn.model_selection import cross_val_score\n",
        "from sklearn.ensemble import GradientBoostingClassifier\n",
        "from sklearn.linear_model import LogisticRegression\n",
        "from sklearn.neighbors import KNeighborsClassifier\n",
        "from sklearn.svm import SVC\n",
        "from xgboost import XGBClassifier\n",
        "from numpy import loadtxt\n",
        "from sklearn.model_selection import train_test_split\n",
        "from sklearn.metrics import accuracy_score"
      ],
      "metadata": {
        "id": "0LuRc1nDgGeq"
      },
      "execution_count": 4,
      "outputs": []
    },
    {
      "cell_type": "code",
      "source": [
        "import pandas as pd\n",
        "from sklearn.model_selection import train_test_split\n",
        "from sklearn.linear_model import LogisticRegression\n",
        "from sklearn.neighbors import KNeighborsClassifier\n",
        "from sklearn.svm import SVC\n",
        "from xgboost import XGBClassifier\n",
        "from sklearn.metrics import accuracy_score\n",
        "import time\n",
        "\n",
        "# Read the dataset\n",
        "data = pd.read_csv('https://archive.ics.uci.edu/ml/machine-learning-databases/00519/heart_failure_clinical_records_dataset.csv')\n",
        "\n",
        "# Splitting the dataset into features (X) and target variable (y)\n",
        "X = data.iloc[:, 0:12].values\n",
        "y = data.iloc[:, 12].values\n",
        "\n",
        "# Splitting the data into training and testing sets\n",
        "x_train, x_test, y_train, y_test = train_test_split(X, y, test_size=0.2, random_state=1)\n",
        "\n",
        "# Define the models\n",
        "models = [\n",
        "    ('Logistic Regression', LogisticRegression()),\n",
        "    ('KNN', KNeighborsClassifier()),\n",
        "    ('SVM', SVC()),\n",
        "    ('XGB', XGBClassifier(eta=0.01, gamma=10))\n",
        "]\n",
        "\n",
        "# Evaluate each model\n",
        "results = []\n",
        "names = []\n",
        "scoring = 'accuracy'\n",
        "\n",
        "for name, model in models:\n",
        "    start_time = time.time()\n",
        "    model.fit(x_train, y_train)\n",
        "    elapsed_time = time.time() - start_time\n",
        "    y_pred = model.predict(x_test)\n",
        "    accuracy = accuracy_score(y_test, y_pred)\n",
        "    results.append(accuracy)\n",
        "    names.append(name)\n",
        "    print(f\"{name}: Accuracy = {accuracy}, Elapsed Time = {elapsed_time} seconds\")\n"
      ],
      "metadata": {
        "colab": {
          "base_uri": "https://localhost:8080/"
        },
        "id": "u26r9CtHgINK",
        "outputId": "4100eac2-6643-42f3-9cf5-cc1bce5f8921"
      },
      "execution_count": 10,
      "outputs": [
        {
          "output_type": "stream",
          "name": "stdout",
          "text": [
            "Logistic Regression: Accuracy = 0.8666666666666667, Elapsed Time = 0.0226132869720459 seconds\n",
            "KNN: Accuracy = 0.6333333333333333, Elapsed Time = 0.001268625259399414 seconds\n",
            "SVM: Accuracy = 0.7666666666666667, Elapsed Time = 0.006058454513549805 seconds\n",
            "XGB: Accuracy = 0.8666666666666667, Elapsed Time = 0.07390570640563965 seconds\n"
          ]
        }
      ]
    },
    {
      "cell_type": "code",
      "source": [
        "import pandas as pd\n",
        "from sklearn.model_selection import train_test_split\n",
        "from sklearn.linear_model import LogisticRegression\n",
        "from sklearn.neighbors import KNeighborsClassifier\n",
        "from sklearn.svm import SVC\n",
        "from xgboost import XGBClassifier\n",
        "from sklearn.metrics import accuracy_score\n",
        "import time\n",
        "\n",
        "# Evaluate each model\n",
        "for name, model in models:\n",
        "    start_time = time.time()\n",
        "    model.fit(x_train, y_train)\n",
        "    elapsed_time = time.time() - start_time\n",
        "    y_pred = model.predict(x_test)\n",
        "    predictions = [round(value) for value in y_pred]\n",
        "    accuracy = accuracy_score(y_test, predictions)\n",
        "    print(f\"{name}: Accuracy = {accuracy:.2f}%, Elapsed Time = {elapsed_time:.2f} seconds\")\n"
      ],
      "metadata": {
        "colab": {
          "base_uri": "https://localhost:8080/"
        },
        "id": "dkO5IyNKhYlp",
        "outputId": "761b5610-da79-43c9-b716-d6c9a4863505"
      },
      "execution_count": 12,
      "outputs": [
        {
          "output_type": "stream",
          "name": "stdout",
          "text": [
            "Logistic Regression: Accuracy = 0.87%, Elapsed Time = 0.04 seconds\n",
            "KNN: Accuracy = 0.63%, Elapsed Time = 0.00 seconds\n",
            "SVM: Accuracy = 0.77%, Elapsed Time = 0.01 seconds\n",
            "XGB: Accuracy = 0.87%, Elapsed Time = 1.31 seconds\n"
          ]
        }
      ]
    },
    {
      "cell_type": "code",
      "source": [
        "import pandas as pd\n",
        "from sklearn.ensemble import VotingClassifier\n",
        "from sklearn.linear_model import LogisticRegression\n",
        "from sklearn.svm import SVC\n",
        "from sklearn.tree import DecisionTreeClassifier\n",
        "from sklearn.model_selection import train_test_split\n",
        "from sklearn.metrics import accuracy_score\n",
        "\n",
        "# Read the dataset\n",
        "data = pd.read_csv('https://archive.ics.uci.edu/ml/machine-learning-databases/00519/heart_failure_clinical_records_dataset.csv')\n",
        "\n",
        "# Splitting the dataset into features (X) and target variable (y)\n",
        "X = data.iloc[:, :12].values\n",
        "y = data.iloc[:, 12].values\n",
        "\n",
        "# Splitting the data into training and testing sets\n",
        "x_train, x_test, y_train, y_test = train_test_split(X, y, test_size=0.2, random_state=42)\n",
        "\n",
        "# Define the classifiers\n",
        "estimators = [\n",
        "    ('Logistic Regression', LogisticRegression(solver='lbfgs', multi_class='auto', max_iter=200)),\n",
        "    ('SVC', SVC(gamma='auto', probability=True)),\n",
        "    ('Decision Tree Classifier', DecisionTreeClassifier())\n",
        "]\n",
        "\n",
        "# Hard voting\n",
        "vote_hard = VotingClassifier(estimators=estimators, voting='hard')\n",
        "vote_hard.fit(x_train, y_train)\n",
        "y_pred_hard = vote_hard.predict(x_test)\n",
        "score_hard = accuracy_score(y_test, y_pred_hard)\n",
        "print(\"Hard Voting Score:\", score_hard)\n",
        "\n",
        "# Soft voting\n",
        "vote_soft = VotingClassifier(estimators=estimators, voting='soft')\n",
        "vote_soft.fit(x_train, y_train)\n",
        "y_pred_soft = vote_soft.predict(x_test)\n",
        "score_soft = accuracy_score(y_test, y_pred_soft)\n",
        "print(\"Soft Voting Score:\", score_soft)\n"
      ],
      "metadata": {
        "colab": {
          "base_uri": "https://localhost:8080/"
        },
        "id": "4qCoQz3Xh4V2",
        "outputId": "cc6757b0-8762-4415-8b55-b075c82171d8"
      },
      "execution_count": 13,
      "outputs": [
        {
          "output_type": "stream",
          "name": "stdout",
          "text": [
            "Hard Voting Score: 0.7\n",
            "Soft Voting Score: 0.7\n"
          ]
        }
      ]
    }
  ]
}