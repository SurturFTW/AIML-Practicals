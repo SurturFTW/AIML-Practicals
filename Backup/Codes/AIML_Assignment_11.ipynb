{
  "metadata": {
    "kernelspec": {
      "language": "python",
      "display_name": "Python 3",
      "name": "python3"
    },
    "language_info": {
      "pygments_lexer": "ipython3",
      "nbconvert_exporter": "python",
      "version": "3.6.4",
      "file_extension": ".py",
      "codemirror_mode": {
        "name": "ipython",
        "version": 3
      },
      "name": "python",
      "mimetype": "text/x-python"
    },
    "colab": {
      "provenance": []
    }
  },
  "nbformat_minor": 0,
  "nbformat": 4,
  "cells": [
    {
      "cell_type": "code",
      "source": [
        "# Import necessary libraries\n",
        "from sklearn.datasets import load_iris\n",
        "from sklearn.model_selection import train_test_split\n",
        "from sklearn.tree import DecisionTreeClassifier\n",
        "from sklearn.neighbors import KNeighborsClassifier\n",
        "from sklearn.ensemble import VotingClassifier\n",
        "from sklearn.ensemble import BaggingClassifier, RandomForestClassifier\n",
        "from sklearn.metrics import accuracy_score\n",
        "from sklearn.ensemble import AdaBoostClassifier, GradientBoostingClassifier\n",
        "from xgboost import XGBClassifier"
      ],
      "metadata": {
        "_uuid": "8f2839f25d086af736a60e9eeb907d3b93b6e0e5",
        "_cell_guid": "b1076dfc-b9ad-4769-8c92-a6c4dae69d19",
        "execution": {
          "iopub.status.busy": "2023-05-29T05:18:10.737206Z",
          "iopub.execute_input": "2023-05-29T05:18:10.737854Z",
          "iopub.status.idle": "2023-05-29T05:18:10.746116Z",
          "shell.execute_reply.started": "2023-05-29T05:18:10.737723Z",
          "shell.execute_reply": "2023-05-29T05:18:10.744953Z"
        },
        "trusted": true,
        "id": "DsQZMlSYuD5a"
      },
      "execution_count": null,
      "outputs": []
    },
    {
      "cell_type": "code",
      "source": [
        "# Load the Iris dataset\n",
        "iris = load_iris()\n",
        "X, y = iris.data, iris.target"
      ],
      "metadata": {
        "execution": {
          "iopub.status.busy": "2023-05-29T05:18:10.748074Z",
          "iopub.execute_input": "2023-05-29T05:18:10.74854Z",
          "iopub.status.idle": "2023-05-29T05:18:10.782919Z",
          "shell.execute_reply.started": "2023-05-29T05:18:10.748509Z",
          "shell.execute_reply": "2023-05-29T05:18:10.781143Z"
        },
        "trusted": true,
        "id": "47CGGD9FuD5f"
      },
      "execution_count": null,
      "outputs": []
    },
    {
      "cell_type": "code",
      "source": [
        "# Split the data into training and testing sets\n",
        "X_train, X_test, y_train, y_test = train_test_split(X, y, test_size=0.2, random_state=42)"
      ],
      "metadata": {
        "execution": {
          "iopub.status.busy": "2023-05-29T05:18:10.784232Z",
          "iopub.execute_input": "2023-05-29T05:18:10.784603Z",
          "iopub.status.idle": "2023-05-29T05:18:10.801131Z",
          "shell.execute_reply.started": "2023-05-29T05:18:10.784573Z",
          "shell.execute_reply": "2023-05-29T05:18:10.799853Z"
        },
        "trusted": true,
        "id": "VY-F6moBuD5g"
      },
      "execution_count": null,
      "outputs": []
    },
    {
      "cell_type": "code",
      "source": [
        "# Instantiate individual classifiers\n",
        "decision_tree = DecisionTreeClassifier()\n",
        "knn = KNeighborsClassifier()"
      ],
      "metadata": {
        "execution": {
          "iopub.status.busy": "2023-05-29T05:18:10.804878Z",
          "iopub.execute_input": "2023-05-29T05:18:10.805639Z",
          "iopub.status.idle": "2023-05-29T05:18:10.81138Z",
          "shell.execute_reply.started": "2023-05-29T05:18:10.805594Z",
          "shell.execute_reply": "2023-05-29T05:18:10.81043Z"
        },
        "trusted": true,
        "id": "O5NaZ1fNuD5g"
      },
      "execution_count": null,
      "outputs": []
    },
    {
      "cell_type": "code",
      "source": [
        "# Create the ensemble model using VotingClassifier\n",
        "ensemble_model = VotingClassifier(estimators=[('dt', decision_tree), ('knn', knn)], voting='hard')"
      ],
      "metadata": {
        "execution": {
          "iopub.status.busy": "2023-05-29T05:18:10.813068Z",
          "iopub.execute_input": "2023-05-29T05:18:10.813836Z",
          "iopub.status.idle": "2023-05-29T05:18:10.826263Z",
          "shell.execute_reply.started": "2023-05-29T05:18:10.813795Z",
          "shell.execute_reply": "2023-05-29T05:18:10.825428Z"
        },
        "trusted": true,
        "id": "TI1AQdXruD5h"
      },
      "execution_count": null,
      "outputs": []
    },
    {
      "cell_type": "code",
      "source": [
        "# Fit the ensemble model to the training data\n",
        "ensemble_model.fit(X_train, y_train)"
      ],
      "metadata": {
        "execution": {
          "iopub.status.busy": "2023-05-29T05:18:10.827526Z",
          "iopub.execute_input": "2023-05-29T05:18:10.828552Z",
          "iopub.status.idle": "2023-05-29T05:18:10.860241Z",
          "shell.execute_reply.started": "2023-05-29T05:18:10.82852Z",
          "shell.execute_reply": "2023-05-29T05:18:10.859164Z"
        },
        "trusted": true,
        "id": "0GfnpF-HuD5i",
        "colab": {
          "base_uri": "https://localhost:8080/",
          "height": 110
        },
        "outputId": "cebaceea-a2d8-4b9f-ee6b-7f9073e6487e"
      },
      "execution_count": null,
      "outputs": [
        {
          "output_type": "execute_result",
          "data": {
            "text/plain": [
              "VotingClassifier(estimators=[('dt', DecisionTreeClassifier()),\n",
              "                             ('knn', KNeighborsClassifier())])"
            ],
            "text/html": [
              "<style>#sk-container-id-1 {color: black;background-color: white;}#sk-container-id-1 pre{padding: 0;}#sk-container-id-1 div.sk-toggleable {background-color: white;}#sk-container-id-1 label.sk-toggleable__label {cursor: pointer;display: block;width: 100%;margin-bottom: 0;padding: 0.3em;box-sizing: border-box;text-align: center;}#sk-container-id-1 label.sk-toggleable__label-arrow:before {content: \"▸\";float: left;margin-right: 0.25em;color: #696969;}#sk-container-id-1 label.sk-toggleable__label-arrow:hover:before {color: black;}#sk-container-id-1 div.sk-estimator:hover label.sk-toggleable__label-arrow:before {color: black;}#sk-container-id-1 div.sk-toggleable__content {max-height: 0;max-width: 0;overflow: hidden;text-align: left;background-color: #f0f8ff;}#sk-container-id-1 div.sk-toggleable__content pre {margin: 0.2em;color: black;border-radius: 0.25em;background-color: #f0f8ff;}#sk-container-id-1 input.sk-toggleable__control:checked~div.sk-toggleable__content {max-height: 200px;max-width: 100%;overflow: auto;}#sk-container-id-1 input.sk-toggleable__control:checked~label.sk-toggleable__label-arrow:before {content: \"▾\";}#sk-container-id-1 div.sk-estimator input.sk-toggleable__control:checked~label.sk-toggleable__label {background-color: #d4ebff;}#sk-container-id-1 div.sk-label input.sk-toggleable__control:checked~label.sk-toggleable__label {background-color: #d4ebff;}#sk-container-id-1 input.sk-hidden--visually {border: 0;clip: rect(1px 1px 1px 1px);clip: rect(1px, 1px, 1px, 1px);height: 1px;margin: -1px;overflow: hidden;padding: 0;position: absolute;width: 1px;}#sk-container-id-1 div.sk-estimator {font-family: monospace;background-color: #f0f8ff;border: 1px dotted black;border-radius: 0.25em;box-sizing: border-box;margin-bottom: 0.5em;}#sk-container-id-1 div.sk-estimator:hover {background-color: #d4ebff;}#sk-container-id-1 div.sk-parallel-item::after {content: \"\";width: 100%;border-bottom: 1px solid gray;flex-grow: 1;}#sk-container-id-1 div.sk-label:hover label.sk-toggleable__label {background-color: #d4ebff;}#sk-container-id-1 div.sk-serial::before {content: \"\";position: absolute;border-left: 1px solid gray;box-sizing: border-box;top: 0;bottom: 0;left: 50%;z-index: 0;}#sk-container-id-1 div.sk-serial {display: flex;flex-direction: column;align-items: center;background-color: white;padding-right: 0.2em;padding-left: 0.2em;position: relative;}#sk-container-id-1 div.sk-item {position: relative;z-index: 1;}#sk-container-id-1 div.sk-parallel {display: flex;align-items: stretch;justify-content: center;background-color: white;position: relative;}#sk-container-id-1 div.sk-item::before, #sk-container-id-1 div.sk-parallel-item::before {content: \"\";position: absolute;border-left: 1px solid gray;box-sizing: border-box;top: 0;bottom: 0;left: 50%;z-index: -1;}#sk-container-id-1 div.sk-parallel-item {display: flex;flex-direction: column;z-index: 1;position: relative;background-color: white;}#sk-container-id-1 div.sk-parallel-item:first-child::after {align-self: flex-end;width: 50%;}#sk-container-id-1 div.sk-parallel-item:last-child::after {align-self: flex-start;width: 50%;}#sk-container-id-1 div.sk-parallel-item:only-child::after {width: 0;}#sk-container-id-1 div.sk-dashed-wrapped {border: 1px dashed gray;margin: 0 0.4em 0.5em 0.4em;box-sizing: border-box;padding-bottom: 0.4em;background-color: white;}#sk-container-id-1 div.sk-label label {font-family: monospace;font-weight: bold;display: inline-block;line-height: 1.2em;}#sk-container-id-1 div.sk-label-container {text-align: center;}#sk-container-id-1 div.sk-container {/* jupyter's `normalize.less` sets `[hidden] { display: none; }` but bootstrap.min.css set `[hidden] { display: none !important; }` so we also need the `!important` here to be able to override the default hidden behavior on the sphinx rendered scikit-learn.org. See: https://github.com/scikit-learn/scikit-learn/issues/21755 */display: inline-block !important;position: relative;}#sk-container-id-1 div.sk-text-repr-fallback {display: none;}</style><div id=\"sk-container-id-1\" class=\"sk-top-container\"><div class=\"sk-text-repr-fallback\"><pre>VotingClassifier(estimators=[(&#x27;dt&#x27;, DecisionTreeClassifier()),\n",
              "                             (&#x27;knn&#x27;, KNeighborsClassifier())])</pre><b>In a Jupyter environment, please rerun this cell to show the HTML representation or trust the notebook. <br />On GitHub, the HTML representation is unable to render, please try loading this page with nbviewer.org.</b></div><div class=\"sk-container\" hidden><div class=\"sk-item sk-dashed-wrapped\"><div class=\"sk-label-container\"><div class=\"sk-label sk-toggleable\"><input class=\"sk-toggleable__control sk-hidden--visually\" id=\"sk-estimator-id-1\" type=\"checkbox\" ><label for=\"sk-estimator-id-1\" class=\"sk-toggleable__label sk-toggleable__label-arrow\">VotingClassifier</label><div class=\"sk-toggleable__content\"><pre>VotingClassifier(estimators=[(&#x27;dt&#x27;, DecisionTreeClassifier()),\n",
              "                             (&#x27;knn&#x27;, KNeighborsClassifier())])</pre></div></div></div><div class=\"sk-parallel\"><div class=\"sk-parallel-item\"><div class=\"sk-item\"><div class=\"sk-label-container\"><div class=\"sk-label sk-toggleable\"><label>dt</label></div></div><div class=\"sk-serial\"><div class=\"sk-item\"><div class=\"sk-estimator sk-toggleable\"><input class=\"sk-toggleable__control sk-hidden--visually\" id=\"sk-estimator-id-2\" type=\"checkbox\" ><label for=\"sk-estimator-id-2\" class=\"sk-toggleable__label sk-toggleable__label-arrow\">DecisionTreeClassifier</label><div class=\"sk-toggleable__content\"><pre>DecisionTreeClassifier()</pre></div></div></div></div></div></div><div class=\"sk-parallel-item\"><div class=\"sk-item\"><div class=\"sk-label-container\"><div class=\"sk-label sk-toggleable\"><label>knn</label></div></div><div class=\"sk-serial\"><div class=\"sk-item\"><div class=\"sk-estimator sk-toggleable\"><input class=\"sk-toggleable__control sk-hidden--visually\" id=\"sk-estimator-id-3\" type=\"checkbox\" ><label for=\"sk-estimator-id-3\" class=\"sk-toggleable__label sk-toggleable__label-arrow\">KNeighborsClassifier</label><div class=\"sk-toggleable__content\"><pre>KNeighborsClassifier()</pre></div></div></div></div></div></div></div></div></div></div>"
            ]
          },
          "metadata": {},
          "execution_count": 6
        }
      ]
    },
    {
      "cell_type": "code",
      "source": [
        "# Make predictions on the test data\n",
        "y_pred = ensemble_model.predict(X_test)"
      ],
      "metadata": {
        "execution": {
          "iopub.status.busy": "2023-05-29T05:18:10.861731Z",
          "iopub.execute_input": "2023-05-29T05:18:10.862512Z",
          "iopub.status.idle": "2023-05-29T05:18:10.873631Z",
          "shell.execute_reply.started": "2023-05-29T05:18:10.862483Z",
          "shell.execute_reply": "2023-05-29T05:18:10.872594Z"
        },
        "trusted": true,
        "id": "qzWjikiiuD5i"
      },
      "execution_count": null,
      "outputs": []
    },
    {
      "cell_type": "code",
      "source": [
        "# Calculate accuracy of the ensemble model\n",
        "accuracy = accuracy_score(y_test, y_pred)\n",
        "print(\"Ensemble Model Accuracy:\", accuracy)"
      ],
      "metadata": {
        "execution": {
          "iopub.status.busy": "2023-05-29T05:18:10.875319Z",
          "iopub.execute_input": "2023-05-29T05:18:10.875733Z",
          "iopub.status.idle": "2023-05-29T05:18:10.886523Z",
          "shell.execute_reply.started": "2023-05-29T05:18:10.875704Z",
          "shell.execute_reply": "2023-05-29T05:18:10.885085Z"
        },
        "trusted": true,
        "id": "EvCQbbgPuD5j",
        "colab": {
          "base_uri": "https://localhost:8080/"
        },
        "outputId": "581fac3c-75d2-48ad-a7f1-80f68ef114fa"
      },
      "execution_count": null,
      "outputs": [
        {
          "output_type": "stream",
          "name": "stdout",
          "text": [
            "Ensemble Model Accuracy: 1.0\n"
          ]
        }
      ]
    },
    {
      "cell_type": "code",
      "source": [
        "# Bagging classifier using Decision Tree as the base estimator\n",
        "bagging_model = BaggingClassifier(base_estimator=DecisionTreeClassifier(), n_estimators=10, random_state=42)\n",
        "\n",
        "# Random Forest classifier\n",
        "random_forest_model = RandomForestClassifier(n_estimators=10, random_state=42)"
      ],
      "metadata": {
        "execution": {
          "iopub.status.busy": "2023-05-29T05:18:10.887761Z",
          "iopub.execute_input": "2023-05-29T05:18:10.8892Z",
          "iopub.status.idle": "2023-05-29T05:18:10.898465Z",
          "shell.execute_reply.started": "2023-05-29T05:18:10.889003Z",
          "shell.execute_reply": "2023-05-29T05:18:10.897273Z"
        },
        "trusted": true,
        "id": "kfRsFFPVuD5k"
      },
      "execution_count": null,
      "outputs": []
    },
    {
      "cell_type": "code",
      "source": [
        "# Fit the models on the training data\n",
        "bagging_model.fit(X_train, y_train)\n",
        "random_forest_model.fit(X_train, y_train)\n",
        "\n",
        "# Make predictions on the test data\n",
        "bagging_pred = bagging_model.predict(X_test)\n",
        "random_forest_pred = random_forest_model.predict(X_test)"
      ],
      "metadata": {
        "execution": {
          "iopub.status.busy": "2023-05-29T05:18:10.901585Z",
          "iopub.execute_input": "2023-05-29T05:18:10.902004Z",
          "iopub.status.idle": "2023-05-29T05:18:10.978801Z",
          "shell.execute_reply.started": "2023-05-29T05:18:10.901967Z",
          "shell.execute_reply": "2023-05-29T05:18:10.977572Z"
        },
        "trusted": true,
        "id": "cecmO50YuD5k",
        "colab": {
          "base_uri": "https://localhost:8080/"
        },
        "outputId": "bbdca356-2b9e-427c-828c-9bde453a271c"
      },
      "execution_count": null,
      "outputs": [
        {
          "output_type": "stream",
          "name": "stderr",
          "text": [
            "/usr/local/lib/python3.10/dist-packages/sklearn/ensemble/_base.py:166: FutureWarning: `base_estimator` was renamed to `estimator` in version 1.2 and will be removed in 1.4.\n",
            "  warnings.warn(\n"
          ]
        }
      ]
    },
    {
      "cell_type": "code",
      "source": [
        "# Calculate accuracy for both models\n",
        "bagging_accuracy = accuracy_score(y_test, bagging_pred)\n",
        "random_forest_accuracy = accuracy_score(y_test, random_forest_pred)\n",
        "\n",
        "print(\"Bagging Model Accuracy:\", bagging_accuracy)\n",
        "print(\"Random Forest Model Accuracy:\", random_forest_accuracy)"
      ],
      "metadata": {
        "execution": {
          "iopub.status.busy": "2023-05-29T05:18:10.980905Z",
          "iopub.execute_input": "2023-05-29T05:18:10.981894Z",
          "iopub.status.idle": "2023-05-29T05:18:10.991081Z",
          "shell.execute_reply.started": "2023-05-29T05:18:10.981862Z",
          "shell.execute_reply": "2023-05-29T05:18:10.989503Z"
        },
        "trusted": true,
        "id": "ETNaIOhEuD5l",
        "colab": {
          "base_uri": "https://localhost:8080/"
        },
        "outputId": "74a833fb-6034-4e25-b9b7-4d71cbb01bd2"
      },
      "execution_count": null,
      "outputs": [
        {
          "output_type": "stream",
          "name": "stdout",
          "text": [
            "Bagging Model Accuracy: 1.0\n",
            "Random Forest Model Accuracy: 1.0\n"
          ]
        }
      ]
    }
  ]
}